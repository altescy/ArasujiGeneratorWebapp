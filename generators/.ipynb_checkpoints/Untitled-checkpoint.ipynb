{
 "cells": [
  {
   "cell_type": "markdown",
   "metadata": {},
   "source": [
    "# あらすじジェネレータ\n",
    "本のタイトルからあらすじ(キャプション)を生成"
   ]
  },
  {
   "cell_type": "markdown",
   "metadata": {},
   "source": [
    "## データの用意"
   ]
  },
  {
   "cell_type": "code",
   "execution_count": 64,
   "metadata": {
    "collapsed": false
   },
   "outputs": [],
   "source": [
    "import pickle\n",
    "import numpy as np\n",
    "from utilities.word2id import Word2ID\n",
    "\n",
    "with open('data/KADOKAWA-caption-id-dataset.pkl', 'rb') as f:\n",
    "    dataset = pickle.load(f)\n",
    "\n",
    "t_wd2id = Word2ID()\n",
    "c_wd2id = Word2ID()\n",
    "t_wd2id.deserialize(dataset['title'])\n",
    "c_wd2id.deserialize(dataset['caption'])\n",
    "\n",
    "n_data = len(t_wd2id.data)\n",
    "n_train = 200\n",
    "n_test = n_data - n_train\n",
    "x_vocab = len(t_wd2id.wd2id)\n",
    "y_vocab = len(c_wd2id.wd2id)\n",
    "\n",
    "X = [np.array(x, dtype=np.int32) for x in t_wd2id.data]\n",
    "Y = [np.array(x, dtype=np.int32) for x in c_wd2id.data]\n",
    "\n",
    "shuffidx = np.random.permutation(n_data)\n",
    "X_train = np.array(X)[shuffidx[:n_train]]\n",
    "X_test  = np.array(X)[shuffidx[n_train:]]\n",
    "Y_train = np.array(Y)[shuffidx[:n_train]]\n",
    "Y_test  = np.array(Y)[shuffidx[n_train:]]"
   ]
  },
  {
   "cell_type": "markdown",
   "metadata": {},
   "source": [
    "## モデルの作成とトレーニング"
   ]
  },
  {
   "cell_type": "markdown",
   "metadata": {},
   "source": [
    "chainer.links.LSTMでは，シーケンスを長い順に並べなおしてtranspose_sequenceを行うことで可変調系列をパディングを用いずに扱える.<br>\n",
    "<ul><li> 並べ替え <br> X[np.argsort([-len(x) for x in X])] </li>\n",
    "<li> 使い方 <br>\n",
    "sequences = [<br>\n",
    "&nbsp;&nbsp;np.array([w1, w2, w3, w4]),  # \"w1w2w3w4\" という系列、以下同じ<br>\n",
    "&nbsp;&nbsp;np.array([w5, w6, w7]),<br>\n",
    "&nbsp;&nbsp;np.array([w8, w9])<br>\n",
    "]<br>\n",
    "words = transpose_sequnce(sequences)  # wordsは[[w1, w5, w8], [w2, w6, w9], [w3, w7], [w4]]になる<br>\n",
    "for w in words:<br>\n",
    "&nbsp;&nbsp;lstm(w)<br>\n",
    "h = lstm.h    # h.data.shape == (3,)<br>\n",
    "</li></ul>"
   ]
  },
  {
   "cell_type": "code",
   "execution_count": 117,
   "metadata": {
    "collapsed": true
   },
   "outputs": [],
   "source": [
    "from chainer import Chain, links as L, functions as F\n",
    "from chainer import Variable\n",
    "\n",
    "class Seq2Seq(Chain):\n",
    "    def __init__(self, n_in, n_mid, n_out, ignore=-1):\n",
    "        super(Seq2Seq, self).__init__(\n",
    "            embedx = L.EmbedID(n_in, n_mid, ignore),\n",
    "            embedy = L.EmbedID(n_out, n_mid, ignore),\n",
    "            lstm1  = L.LSTM(n_mid, n_mid),\n",
    "            W      = L.Linear(n_mid, n_out)\n",
    "        )\n",
    "        self.ignore = ignore\n",
    "    \n",
    "    def __call__(self, X, Y):\n",
    "        sortedidx = np.argsort([-len(x) for x in X])\n",
    "        X_T = F.transpose_sequence(X[sortedidx])\n",
    "\n",
    "        self.reset_state()\n",
    "\n",
    "        # Encoder\n",
    "        for x in X_T:\n",
    "            self.lstm1(self.embedx(x))\n",
    "        \n",
    "        loss = 0\n",
    "        # Decoder\n",
    "        Y = Y[sortedidx]  # Xのバッチの並びに合わせる\n",
    "        sortedidy = np.argsort([-len(x) for x in Y]).astype(np.int32)\n",
    "        Y_T = F.transpose_sequence(Y[sortedidy])\n",
    "        self.permutate_lstm_state(self.lstm1, sortedidy)  # Yの並べ替えに対応してlstmの中も並べ替え\n",
    "\n",
    "        for y in Y_T:\n",
    "            h = self.lstm1(self.embedy(y))\n",
    "            h = self.W(h)\n",
    "            loss += F.softmax_cross_entropy(h, y)\n",
    "        \n",
    "        return loss\n",
    "    \n",
    "    def predict(self, X, eos=1, pad=-1, maxiter=100):\n",
    "        sortedidx = np.argsort([-len(x) for x in X])\n",
    "        X_T = F.transpose_sequence(X[sortedidx])\n",
    "\n",
    "        self.reset_state()\n",
    "        # Encoder\n",
    "        for x in X_T:\n",
    "            self.lstm1(self.embedx(x))\n",
    "        \n",
    "        # Decoder\n",
    "        h = self.lstm1.h\n",
    "        prediction = np.argmax(self.W(h).data, axis=1).astype(np.int32)\n",
    "        finish = prediction == eos\n",
    "        out = [prediction]\n",
    "        i = 0\n",
    "        while np.sum(finish) != len(X) and i < maxiter:\n",
    "            if i == 0:\n",
    "                print(prediction.shape)\n",
    "            y = self.embedy(prediction)\n",
    "            h = self.lstm1(y)\n",
    "            o = np.argmax(self.W(h).data, axis=1)\n",
    "            prediction = np.where(finish, pad, o).astype(np.int32)\n",
    "            finish = prediction == eos\n",
    "            out.append(prediction)\n",
    "            i += 1\n",
    "        out = np.array(out).T\n",
    "        print(i, prediction)\n",
    "        put = out[np.argsort(sortedidx)]  # 最初のバッチの順番を復元\n",
    "        \n",
    "        return out\n",
    "    \n",
    "    def reset_state(self):\n",
    "        self.lstm1.reset_state()\n",
    "    \n",
    "    def permutate_lstm_state(self, lstm, indices):\n",
    "        lstm.c = F.array.permutate.permutate(lstm.c, indices)\n",
    "        lstm.h = F.array.permutate.permutate(lstm.h, indices)\n",
    " "
   ]
  },
  {
   "cell_type": "code",
   "execution_count": 118,
   "metadata": {
    "collapsed": false
   },
   "outputs": [],
   "source": [
    "from chainer import optimizers, Variable\n",
    "from ipywidgets import FloatProgress\n",
    "from IPython.display import display\n",
    "\n",
    "model = Seq2Seq(x_vocab, 300, y_vocab)\n",
    "optimizer = optimizers.Adam()\n",
    "optimizer.setup(model)\n",
    "\n",
    "n_epoch = 1\n",
    "n_batch = 100\n",
    "\n",
    "fp = FloatProgress(min=0, max=n_train*n_epoch)\n",
    "display(fp)\n",
    "\n",
    "error = []\n",
    "for epoch in range(n_epoch):\n",
    "    shuffidx = np.random.permutation(n_train)\n",
    "    for i in range(0, n_train, n_batch):\n",
    "        X_batch = X_train[shuffidx[i : i + n_batch if i + n_batch < n_train else n_train]]\n",
    "        Y_batch = Y_train[shuffidx[i : i + n_batch if i + n_batch < n_train else n_train]]\n",
    "        \n",
    "        model.zerograds()\n",
    "        loss = model(X_batch, Y_batch)\n",
    "        loss.backward()\n",
    "        optimizer.update()\n",
    "        error.append(loss.data)\n",
    "        fp.value = n_train*epoch + i"
   ]
  },
  {
   "cell_type": "code",
   "execution_count": 27,
   "metadata": {
    "collapsed": false
   },
   "outputs": [
    {
     "data": {
      "text/plain": [
       "[<matplotlib.lines.Line2D at 0x2270afe2320>]"
      ]
     },
     "execution_count": 27,
     "metadata": {},
     "output_type": "execute_result"
    },
    {
     "data": {
      "image/png": "[encoded data removed]",
      "text/plain": [
       "<matplotlib.figure.Figure at 0x2270f0b1b70>"
      ]
     },
     "metadata": {},
     "output_type": "display_data"
    }
   ],
   "source": [
    "%matplotlib inline\n",
    "import matplotlib.pyplot as plt\n",
    "\n",
    "plt.plot(error)"
   ]
  },
  {
   "cell_type": "code",
   "execution_count": 32,
   "metadata": {
    "collapsed": false
   },
   "outputs": [],
   "source": [
    "from chainer import serializers\n",
    "serializers.save_npz('10epoch.npz', model)"
   ]
  },
  {
   "cell_type": "code",
   "execution_count": 47,
   "metadata": {
    "collapsed": true
   },
   "outputs": [],
   "source": [
    "serializers.load_npz('10epoch.npz', model)"
   ]
  },
  {
   "cell_type": "code",
   "execution_count": 119,
   "metadata": {
    "collapsed": false
   },
   "outputs": [
    {
     "name": "stdout",
     "output_type": "stream",
     "text": [
      "24 (10,)\n",
      "(10, 1907)\n",
      "[1 1 1 1 1 1 1 1 1 1]\n"
     ]
    }
   ],
   "source": [
    "P = model.predict(X_test[:10])"
   ]
  },
  {
   "cell_type": "code",
   "execution_count": 120,
   "metadata": {
    "collapsed": false
   },
   "outputs": [
    {
     "data": {
      "text/plain": [
       "array([[1],\n",
       "       [1],\n",
       "       [1],\n",
       "       [1],\n",
       "       [1],\n",
       "       [1],\n",
       "       [1],\n",
       "       [1],\n",
       "       [1],\n",
       "       [1]])"
      ]
     },
     "execution_count": 120,
     "metadata": {},
     "output_type": "execute_result"
    }
   ],
   "source": [
    "P"
   ]
  },
  {
   "cell_type": "code",
   "execution_count": null,
   "metadata": {
    "collapsed": true
   },
   "outputs": [],
   "source": []
  }
 ],
 "metadata": {
  "anaconda-cloud": {},
  "kernelspec": {
   "display_name": "Python [conda root]",
   "language": "python",
   "name": "conda-root-py"
  },
  "language_info": {
   "codemirror_mode": {
    "name": "ipython",
    "version": 3
   },
   "file_extension": ".py",
   "mimetype": "text/x-python",
   "name": "python",
   "nbconvert_exporter": "python",
   "pygments_lexer": "ipython3",
   "version": "3.5.2"
  },
  "widgets": {
   "state": {
    "191cd6bd2eec4c39aef600a5d41a1e69": {
     "views": [
      {
       "cell_index": 6
      }
     ]
    }
   },
   "version": "1.2.0"
  }
 },
 "nbformat": 4,
 "nbformat_minor": 1
}
