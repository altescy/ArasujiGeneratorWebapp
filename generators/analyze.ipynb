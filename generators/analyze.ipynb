{
 "cells": [
  {
   "cell_type": "markdown",
   "metadata": {},
   "source": [
    "# あらすじジェネレータ\n",
    "本のタイトルからあらすじ(キャプション)を生成"
   ]
  },
  {
   "cell_type": "markdown",
   "metadata": {},
   "source": [
    "## データの用意"
   ]
  },
  {
   "cell_type": "code",
   "execution_count": 1,
   "metadata": {
    "collapsed": false
   },
   "outputs": [],
   "source": [
    "import pickle\n",
    "import numpy as np\n",
    "from utilities.word2id import Word2ID\n",
    "\n",
    "with open('data/KADOKAWA-caption-id-dataset.pkl', 'rb') as f:\n",
    "    dataset = pickle.load(f)\n",
    "\n",
    "t_wd2id = Word2ID()\n",
    "c_wd2id = Word2ID()\n",
    "t_wd2id.deserialize(dataset['title'])\n",
    "c_wd2id.deserialize(dataset['caption'])\n",
    "\n",
    "n_data = len(t_wd2id.data)\n",
    "n_train = n_data\n",
    "\n",
    "x_vocab = len(t_wd2id.wd2id)\n",
    "y_vocab = len(c_wd2id.wd2id)\n",
    "\n",
    "X_train = [np.array(x, dtype=np.int32) for x in t_wd2id.data]\n",
    "Y_train = [np.array(x, dtype=np.int32) for x in c_wd2id.data]\n",
    "X_train = np.array(X_train)\n",
    "Y_train = np.array(Y_train)"
   ]
  },
  {
   "cell_type": "markdown",
   "metadata": {},
   "source": [
    "## モデルの作成とトレーニング"
   ]
  },
  {
   "cell_type": "markdown",
   "metadata": {},
   "source": [
    "### モデル概要\n",
    "入力 X $\\rightarrow$ Encoder $\\rightarrow$ 変換素子 $\\rightarrow$ Decoder $\\rightarrow$ 出力　<br>\n",
    "ミニバッチ学習ができる様に実装"
   ]
  },
  {
   "cell_type": "markdown",
   "metadata": {},
   "source": [
    "### Chainer Tips\n",
    "chainer.links.LSTMでは，シーケンスを長い順に並べなおしてtranspose_sequenceを行うことで可変長系列をパディングを用いずに扱える.<br>\n",
    "<ul><li> 並べ替え <br> X[np.argsort([-len(x) for x in X])] </li>\n",
    "<li> 使い方 <br>\n",
    "sequences = [<br>\n",
    "&nbsp;&nbsp;np.array([w1, w2, w3, w4]),  # \"w1w2w3w4\" という系列、以下同じ<br>\n",
    "&nbsp;&nbsp;np.array([w5, w6, w7]),<br>\n",
    "&nbsp;&nbsp;np.array([w8, w9])<br>\n",
    "]<br>\n",
    "words = transpose_sequnce(sequences)  # wordsは[[w1, w5, w8], [w2, w6, w9], [w3, w7], [w4]]になる<br>\n",
    "for w in words:<br>\n",
    "&nbsp;&nbsp;lstm(w)<br>\n",
    "h = lstm.h    # h.data.shape == (3,)<br>\n",
    "</li></ul>"
   ]
  },
  {
   "cell_type": "code",
   "execution_count": 3,
   "metadata": {
    "collapsed": true
   },
   "outputs": [],
   "source": [
    "from chainer import Chain, links as L, functions as F\n",
    "from chainer import Variable\n",
    "\n",
    "class Seq2Seq(Chain):\n",
    "    def __init__(self, n_in, n_mid, n_out, ignore_label=-1):\n",
    "        super(Seq2Seq, self).__init__(\n",
    "            embedx = L.EmbedID(n_in, n_mid, ignore_label=ignore_label),\n",
    "            embedy = L.EmbedID(n_out, n_mid, ignore_label=ignore_label),\n",
    "            lstm_i = L.LSTM(n_mid, n_mid),  # Encoder用LSTM\n",
    "            lstm_c = L.LSTM(n_mid, n_mid),  # Encoder -> Decoder 変換素子\n",
    "            lstm_o = L.LSTM(n_mid, n_mid),  # Decoder用LSTM\n",
    "            out    = L.Linear(n_mid, n_out)\n",
    "        )\n",
    "        self.ignore_label = ignore_label\n",
    "    \n",
    "    def __call__(self, X, Y):\n",
    "        self.reset_state()\n",
    "        p = F.dropout(self.encode(X))\n",
    "        p = F.dropout(self.lstm_c(p))\n",
    "        loss = self.decode_train(p, Y)\n",
    "        return loss\n",
    "\n",
    "    def predict(self, X, max_iter=30):\n",
    "        self.reset_state()\n",
    "        p = self.encode(X)\n",
    "        return self.decode(self.lstm_c(p), n_iter=max_iter)\n",
    "\n",
    "    def encode(self, X):\n",
    "        sortedidx = np.argsort([-len(x) for x in X]).astype(np.int32)\n",
    "        X_T = F.transpose_sequence(X[sortedidx])\n",
    "\n",
    "        for x in X_T:\n",
    "            self.lstm_i(self.embedx(x))\n",
    "        \n",
    "        h = F.array.permutate.permutate(self.lstm_i.h, np.argsort(sortedidx).astype(np.int32))\n",
    "        return h\n",
    "          \n",
    "    def decode_train(self, p, Y):\n",
    "        sortedidx = np.argsort([-len(y) for y in Y]).astype(np.int32)\n",
    "        Y_T = F.transpose_sequence(Y[sortedidx])\n",
    "        p = F.array.permutate.permutate(p, sortedidx)\n",
    "        \n",
    "        loss = 0\n",
    "        y_prev = p  # 最初の入力は(変換素子を通した)Encoderからの出力\n",
    "        for y in Y_T:\n",
    "            h = F.dropout(self.lstm_o(y_prev))\n",
    "            q = self.out(h)\n",
    "            loss += F.softmax_cross_entropy(q[:len(y)], y)\n",
    "            y_prev = self.embedy(y)\n",
    "        \n",
    "        return loss\n",
    "    \n",
    "    def decode(self, p, n_iter=30, eos=1):\n",
    "        P = []\n",
    "        y_prev = p\n",
    "        for _ in range(n_iter):\n",
    "            q = self.out(self.lstm_o(y_prev))\n",
    "            P.append(np.argmax(q.data, axis=1).astype(np.int32))\n",
    "            y_prev = self.embedy(P[-1])\n",
    "        P = np.array(P).T\n",
    "        \n",
    "        # 出力用に<eos>以下を切り捨てる\n",
    "        out = []\n",
    "        for p in P:\n",
    "            for j, val in enumerate(p):\n",
    "                if val == eos:\n",
    "                    break\n",
    "            out.append(p[:j+1])\n",
    "        return np.array(out)\n",
    "    \n",
    "    def reset_state(self):\n",
    "        self.lstm_i.reset_state()\n",
    "        self.lstm_c.reset_state()\n",
    "        self.lstm_o.reset_state()\n"
   ]
  },
  {
   "cell_type": "code",
   "execution_count": 51,
   "metadata": {
    "collapsed": false
   },
   "outputs": [],
   "source": [
    "from chainer import optimizers, Variable\n",
    "from ipywidgets import FloatProgress\n",
    "from IPython.display import display\n",
    "\n",
    "n_mid =300\n",
    "n_epoch = 150\n",
    "n_batch = 100\n",
    "\n",
    "model = Seq2Seq(x_vocab, n_mid, y_vocab)\n",
    "optimizer = optimizers.Adam()\n",
    "optimizer.setup(model)\n",
    "\n",
    "fp = FloatProgress(min=0, max=n_train*n_epoch)\n",
    "display(fp)\n",
    "\n",
    "error = []\n",
    "for epoch in range(n_epoch):\n",
    "    shuffidx = np.random.permutation(n_train)\n",
    "    for i in range(0, n_train, n_batch):\n",
    "        X_batch = X_train[shuffidx[i : i + n_batch if i + n_batch < n_train else n_train]]\n",
    "        Y_batch = Y_train[shuffidx[i : i + n_batch if i + n_batch < n_train else n_train]]\n",
    "        \n",
    "        model.zerograds()\n",
    "        loss = model(X_batch, Y_batch)\n",
    "        loss.backward()\n",
    "        optimizer.update()\n",
    "        error.append(loss.data / n_batch)\n",
    "        fp.value = n_train*epoch + i + 1"
   ]
  },
  {
   "cell_type": "markdown",
   "metadata": {},
   "source": [
    "## トレーニング結果の表示"
   ]
  },
  {
   "cell_type": "code",
   "execution_count": 52,
   "metadata": {
    "collapsed": false,
    "scrolled": false
   },
   "outputs": [
    {
     "data": {
      "text/plain": [
       "[<matplotlib.lines.Line2D at 0x23d3441aac8>]"
      ]
     },
     "execution_count": 52,
     "metadata": {},
     "output_type": "execute_result"
    },
    {
     "data": {
      "image/png": "[encoded data removed]",
      "text/plain": [
       "<matplotlib.figure.Figure at 0x23d357d94a8>"
      ]
     },
     "metadata": {},
     "output_type": "display_data"
    }
   ],
   "source": [
    "%matplotlib inline\n",
    "import matplotlib.pyplot as plt\n",
    "plt.plot(error)"
   ]
  },
  {
   "cell_type": "markdown",
   "metadata": {},
   "source": [
    "### モデルの保存\n",
    "トレーニングしたモデルデータをトレーニング時のデータと共に保存．<br>\n",
    "・mdlデータ\n",
    "data = {'model' : モデルデータ,\n",
    "        'epochs': エポック数,\n",
    "        'errors': 誤差履歴,\n",
    "        'note'  : note}"
   ]
  },
  {
   "cell_type": "code",
   "execution_count": 54,
   "metadata": {
    "collapsed": false,
    "scrolled": true
   },
   "outputs": [],
   "source": [
    "note = 'n_train: %d, n_mid: %d\\n'%(n_train, n_mid) + \\\n",
    "       '入力 X → Encoder → dropout → 変換素子 → dropout → Decoder → 出力'\n",
    "data = {'model' : model,\n",
    "        'epochs': n_epoch,\n",
    "        'errors': error,\n",
    "        'note'  : note}\n",
    "with open('model/seq2seq-full-%depochs.mdl'%n_epoch, 'wb') as f:\n",
    "    pickle.dump(data, f)"
   ]
  },
  {
   "cell_type": "markdown",
   "metadata": {},
   "source": [
    "## 予測確認"
   ]
  },
  {
   "cell_type": "code",
   "execution_count": 5,
   "metadata": {
    "collapsed": false
   },
   "outputs": [
    {
     "name": "stdout",
     "output_type": "stream",
     "text": [
      "『この素晴らしい世界に祝福を！２』:\n",
      "     フ ル メ タ ル ・ パ ニ ッ ク ！ 」 <eos> \n",
      "『あいまいみー ～Surgical Friends～』:\n",
      "     ス ニ ー カ ー 大 賞 《 優 秀 賞 》 受 賞 作 デ ビ ュ ー ！ <eos> \n",
      "『小林さんちのメイドラゴン』:\n",
      "     生 活 字 中 毒 舌 メ イ ド タ イ ル ・ ミ ミ ナ ニ カ の か ？ 文 化 祭 編 ！ <eos> \n",
      "『Fate／Grand Order ‐First Order‐』:\n",
      "     戦 慄 の 学 園 サ バ イ バ ル サ ス ペ ン ス 第 四 弾 ！ <eos> \n",
      "『幼女戦記』:\n",
      "     大 人 気 ア ニ メ 『 ハ イ ス ク ー ル ・ フ リ ー ト 』 の 公 式 ス ピ ン オ フ ノ ベ ル 、 第 二 弾 ！ <eos> \n",
      "『亜人ちゃんは語りたい』:\n",
      "     ア ニ メ 化 企 画 進 行 中 ！ <eos> \n",
      "『ガウリールドロップアウト』:\n",
      "     コ ミ ッ ク ス 第 一 巻 も 同 時 発 売 ！ <eos> \n",
      "『けものフレンズ』:\n",
      "     魔 法 と 奇 跡 と 罪 の 幻 想 夜 話 。 <eos> \n",
      "『学戦都市アスタリスク』:\n",
      "     ― ― 聖 地 に 陥 入 れ 替 わ り ラ ブ コ メ 、 最 強 の 敵 ！ ？ <eos> \n"
     ]
    }
   ],
   "source": [
    "import pickle\n",
    "with open('model/seq2seq-full-moredropout-150epochs.mdl', 'rb') as f:\n",
    "    modeldata = pickle.load(f)\n",
    "\n",
    "md = modeldata['model']\n",
    "\n",
    "title =['この素晴らしい世界に祝福を！２',\n",
    "        'あいまいみー ～Surgical Friends～',\n",
    "        '小林さんちのメイドラゴン',\n",
    "        'Fate／Grand Order ‐First Order‐',\n",
    "        '幼女戦記',\n",
    "        '亜人ちゃんは語りたい',\n",
    "        'ガウリールドロップアウト',\n",
    "        'けものフレンズ',\n",
    "        '学戦都市アスタリスク'\n",
    "       ]\n",
    "D = t_wd2id(title)\n",
    "for i in range(len(D)):\n",
    "    D[i].append(-1)\n",
    "D = np.array([np.array(d, dtype=np.int32) for d in D])\n",
    "\n",
    "P = c_wd2id.translate(md.predict(D, max_iter=50))\n",
    "for i, p in enumerate(P):\n",
    "    print('『'+title[i]+'』:\\n    ', p)"
   ]
  },
  {
   "cell_type": "code",
   "execution_count": 17,
   "metadata": {
    "collapsed": false,
    "scrolled": true
   },
   "outputs": [
    {
     "name": "stdout",
     "output_type": "stream",
     "text": [
      "『ピ リ オ ド か ら は じ ま る 魔 導 機 書 <eos> 』\n",
      "    愛 を 教 え て く だ さ い ♪ <eos> \n",
      "『く ず ク マ さ ん と ハ チ ミ ツ J K <eos> 』\n",
      "    ク ズ す ら と ろ け る 最 高 級 < ド タ バ タ > ラ ブ コ メ <eos> \n",
      "『エ ル フ で ビ キ ニ で マ シ ン ガ ン ！ <eos> 』\n",
      "    異 世 界 × ミ リ タ リ ー × ハ ー レ ム ! ? <eos> \n",
      "『モ ー テ ‐ 夢 の 狭 間 で 泣 く 天 使 ‐ <eos> 』\n",
      "    ― ― 俺 は 、 ア ミ ヤ を こ の 手 で 殺 し た い <eos> \n",
      "『中 の 下 ！   ラ ン ク ４ ． 下 の 下 に 落 ち ぶ れ た オ レ <eos> 』\n",
      "    修 学 旅 行 、 ク リ ス マ ス 、 裏 切 り 者 ― ― 男 ・ 成 道 、 決 断 の 刻 、 迫 る ！ <eos> \n",
      "『仮 面 の メ イ ド ガ イ   メ イ ド 革 命 Ｖ ｅ ｒ ． <eos> 』\n",
      "    ド ラ ゴ ン エ イ ジ の 人 気 コ ミ ッ ク ス が 初 の 小 説 化 ! ! <eos> \n",
      "『Ｖ ａ ｒ ｏ ｆ ｅ ｓ ｓ Ｉ   － ヴ ァ ロ フ ェ ス － <eos> 』\n",
      "    闇 の 鴉 。 究 極 の ダ ー ク ヒ ー ロ ー 誕 生 <eos> \n",
      "『ス レ イ ヤ ー ズ ３   サ イ ラ ー グ の 妖 魔 <eos> 』\n",
      "    い つ の 間 に か 賞 金 首 に な っ て い た リ ナ 一 行 。 赤 法 師 の 遺 産 と は ! ? <eos> \n",
      "『銀 の 十 字 架 と ド ラ キ ュ リ ア Ｖ <eos> 』\n",
      "    ル シ ュ ラ と ミ ラ ル カ ― ― 吸 血 鬼 の 『 真 祖 』 が 二 人 ! ? <eos> \n",
      "『フ ァ ン タ ジ ア 文 庫 ２ ５ 周 年 ア ニ バ ー サ リ ー ブ ッ ク <eos> 』\n",
      "    フ ァ ン タ ジ ア 文 庫 ２ ５ 周 年 の ス タ ー ト を 飾 る お 祭 り 文 庫 が 登 場 ！ ！ <eos> \n"
     ]
    }
   ],
   "source": [
    "for t, c in zip(t_wd2id.translate(X_train[:10]), c_wd2id.translate(Y_train[:10])):\n",
    "    print('『'+t+'』\\n    '+c)"
   ]
  },
  {
   "cell_type": "code",
   "execution_count": 15,
   "metadata": {
    "collapsed": false
   },
   "outputs": [
    {
     "name": "stdout",
     "output_type": "stream",
     "text": [
      "『ピ リ オ ド か ら は じ ま る 魔 導 機 書 <eos> 』:\n",
      "     い よ い よ 激 化 す る 争 奪 戦 ！ <eos> \n",
      "『く ず ク マ さ ん と ハ チ ミ ツ J K <eos> 』:\n",
      "     ク ラ イ マ ッ ク ス へ 向 け て 、 稀 人 た ち の 壮 大 な る 闘 い が は じ ま る ！ <eos> \n",
      "『エ ル フ で ビ キ ニ で マ シ ン ガ ン ！ <eos> 』:\n",
      "     異 世 界 × 忘 却 × 異 能 の 武 器 の バ ト ル ア ク シ ョ ン 第 ２ 幕 ！ <eos> \n",
      "『モ ー テ ‐ 夢 の 狭 間 で 泣 く 天 使 ‐ <eos> 』:\n",
      "     ― ― 俺 は 、 魔 法 使 い の 恋 に … … <eos> \n",
      "『中 の 下 ！   ラ ン ク ４ ． 下 の 下 に 落 ち ぶ れ た オ レ <eos> 』:\n",
      "     第 1 9 回 電 撃 小 説 大 賞 最 終 選 考 作 ！ 都 市 の 闇 に 潜 ん だ 連 続 殺 人 鬼 を 追 え ! ! <eos> \n",
      "『仮 面 の メ イ ド ガ イ   メ イ ド 革 命 Ｖ ｅ ｒ ． <eos> 』:\n",
      "     ア ニ メ 化 企 画 進 行 中 。 麗 華 さ ん の 書 き 下 ろ し も 収 録 し た 短 編 集 第 二 弾 ！ <eos> \n",
      "『Ｖ ａ ｒ ｏ ｆ ｅ ｓ ｓ Ｉ   － ヴ ァ ロ フ ェ ス － <eos> 』:\n",
      "     魔 法 と 科 学 が 混 在 す る 学 園 バ ト ル フ ァ ン タ ジ ー ！ <eos> \n",
      "『ス レ イ ヤ ー ズ ３   サ イ ラ ー グ の 妖 魔 <eos> 』:\n",
      "     い つ の 間 に か ら く れ て い た … … 。 <eos> \n",
      "『銀 の 十 字 架 と ド ラ キ ュ リ ア Ｖ <eos> 』:\n",
      "     リ ア ル と ス ト ー リ ー 。 小 説 版 第 ２ 弾 ！ <eos> \n",
      "『フ ァ ン タ ジ ア 文 庫 ２ ５ 周 年 ア ニ バ ー サ リ ー ブ ッ ク <eos> 』:\n",
      "     フ ァ ン タ ジ ア 大 賞 受 賞 作 ！ 新 米 隊 、 魔 王 さ ま 、 シ リ ー ズ 完 結 編 ！ <eos> \n"
     ]
    }
   ],
   "source": [
    "D = X_train[:10]\n",
    "\n",
    "P = c_wd2id.translate(md.predict(D, max_iter=50))\n",
    "for t, p in zip(t_wd2id.translate(X_train[:10]), P):\n",
    "    print('『'+t+'』:\\n    ', p)"
   ]
  },
  {
   "cell_type": "markdown",
   "metadata": {
    "collapsed": true
   },
   "source": [
    "## Attentionを導入したSeq2Seq"
   ]
  },
  {
   "cell_type": "markdown",
   "metadata": {},
   "source": [
    "### Attentionのための入力側LSTMのデータ保持\n",
    "入力時のデータを大域的に保持\n",
    "$$\n",
    "H = \\left[ \\begin{matrix} H^{(1)} \\\\ H^{(2)} \\\\ \\vdots \\\\ H^{(m)} \\end{matrix} \\right]\n",
    "  = \\left[ \\begin{matrix}\n",
    "       \\left[ \\begin{matrix} (\\bf{h}_1^{(1)})^T \\\\ \\vdots \\\\ (\\bf{h}_{n_1}^{(1)})^T \\end{matrix} \\right] \\\\\n",
    "       \\vdots \\\\\n",
    "       \\left[ \\begin{matrix} (\\bf{h}_1^{(m)})^T \\\\ \\vdots \\\\ (\\bf{h}_{n_m}^{(m)})^T \\end{matrix} \\right] \\\\\n",
    "    \\end{matrix} \\right]  \\in \\mathbb{R}^{m \\times n_i \\times l}\n",
    "$$\n",
    "$m$：ミニバッチ数，$n_i$：i番目のバッチデータの長さ，$l$：中間層のベクトルの次元\n"
   ]
  },
  {
   "cell_type": "code",
   "execution_count": 24,
   "metadata": {
    "collapsed": true
   },
   "outputs": [],
   "source": [
    "import numpy as np\n",
    "from chainer import Chain, links as L, functions as F\n",
    "from chainer import Variable\n",
    "\n",
    "class Seq2SeqAttention(Chain):\n",
    "    def __init__(self, n_in, n_mid, n_out, ignore_label=-1):\n",
    "        super(Seq2SeqAttention, self).__init__(\n",
    "            embedx = L.EmbedID(n_in, n_mid, ignore_label=ignore_label),\n",
    "            embedy = L.EmbedID(n_out, n_mid, ignore_label=ignore_label),\n",
    "            lstm_i = L.LSTM(n_mid, n_mid),  # Encoder用LSTM\n",
    "            lstm_c = L.LSTM(n_mid, n_mid),  # Encoder -> Decoder 変換素子\n",
    "            lstm_o = L.LSTM(n_mid, n_mid),  # Decoder用LSTM\n",
    "            w_c    = L.Linear(n_mid, n_mid),\n",
    "            #w_h    = L.Linear(n_mid, n_mid),\n",
    "            w_ifo  = L.Linear(n_mid, 3*n_mid), # AttentionのInput Gate,Forget Gate,Output Gate\n",
    "            out    = L.Linear(n_mid, n_out)\n",
    "        )\n",
    "        self.ignore_label = ignore_label\n",
    "        self.n_mid = n_mid\n",
    "    \n",
    "    def __call__(self, X, Y):\n",
    "        self.reset_state()\n",
    "        p, H = self.encode(X)\n",
    "        #p = F.dropout(p)\n",
    "        p = F.dropout(self.lstm_c(p))\n",
    "        loss = self.decode_train(p, H, Y)\n",
    "        return loss\n",
    "\n",
    "    def predict(self, X, max_iter=30, eos=1):\n",
    "        self.reset_state()\n",
    "        p, H = self.encode(X)\n",
    "        return self.decode(self.lstm_c(p), H, n_iter=max_iter, eos=eos)\n",
    "\n",
    "    def encode(self, X):\n",
    "        sortedidx = np.argsort([-len(x) for x in X]).astype(np.int32)\n",
    "        X_T = F.transpose_sequence(X[sortedidx])\n",
    "        \n",
    "        h = self.lstm_i(self.embedx(X_T[0]))\n",
    "        H = [[np.copy(h_i.data)] for h_i in h]\n",
    "        for x in X_T[1:]:\n",
    "            h = self.lstm_i(self.embedx(x))[:x.shape[0]]\n",
    "            for i, h_i in enumerate(h):\n",
    "                H[i].append(np.copy(h_i.data))\n",
    "        H = [np.array(H_i, dtype=np.float32) for H_i in H]\n",
    "        \n",
    "        H = [H[i] for i in np.argsort(sortedidx)]\n",
    "        h = F.array.permutate.permutate(self.lstm_i.h, np.argsort(sortedidx).astype(np.int32))\n",
    "        return h, H\n",
    "    \n",
    "    def decoder(self, y_prev, H, n_batch=None, train=True):\n",
    "        if not n_batch:\n",
    "            n_batch = len(H)\n",
    "        h = self.lstm_o(y_prev)[:n_batch]\n",
    "            \n",
    "        c = []\n",
    "        for H_i, o_i in zip(H, h):\n",
    "            a_i = np.exp(np.dot(H_i, o_i.data))\n",
    "            a_i = a_i / np.sum(a_i)\n",
    "            c.append(np.dot(H_i.T, a_i))\n",
    "        c = Variable(np.array(c).astype(np.float32))\n",
    "        \n",
    "        ifo = F.sigmoid(self.w_ifo(h))\n",
    "        i = F.dropout(ifo[:,:self.n_mid], train=train)\n",
    "        f = ifo[:,self.n_mid:2*self.n_mid]\n",
    "        o = ifo[:,2*self.n_mid:]\n",
    "        q = F.tanh(i*h + f*self.w_c(c)) * o\n",
    "        return self.out(q)\n",
    "    \n",
    "    def decode_train(self, p, H, Y):\n",
    "        sortedidx = np.argsort([-len(y) for y in Y]).astype(np.int32)\n",
    "        Y_T = F.transpose_sequence(Y[sortedidx])\n",
    "        p = F.array.permutate.permutate(p, sortedidx)\n",
    "        H = [H[i] for i in sortedidx]\n",
    "        \n",
    "        loss = 0\n",
    "        y_prev = p  # 最初の入力は(変換素子を通した)Encoderからの出力\n",
    "        for y in Y_T:\n",
    "            q = self.decoder(y_prev, H, len(y))\n",
    "            loss += F.softmax_cross_entropy(q[:len(y)], y)\n",
    "            y_prev = self.embedy(y)\n",
    "        \n",
    "        return loss\n",
    "    \n",
    "    def decode(self, p, H, n_iter=30, eos=1):\n",
    "        P = []\n",
    "        y_prev = p\n",
    "        for _ in range(n_iter):\n",
    "            q = self.decoder(y_prev, H, train=False)\n",
    "            P.append(np.argmax(q.data, axis=1).astype(np.int32))\n",
    "            y_prev = self.embedy(P[-1])\n",
    "        P = np.array(P).T\n",
    "        \n",
    "        # 出力用に<eos>以下を切り捨てる\n",
    "        out = []\n",
    "        for p in P:\n",
    "            for j, val in enumerate(p):\n",
    "                if val == eos:\n",
    "                    break\n",
    "            out.append(p[:j+1])\n",
    "        return np.array(out)\n",
    "    \n",
    "    def reset_state(self):\n",
    "        self.lstm_i.reset_state()\n",
    "        self.lstm_c.reset_state()\n",
    "        self.lstm_o.reset_state()\n"
   ]
  },
  {
   "cell_type": "code",
   "execution_count": 25,
   "metadata": {
    "collapsed": false
   },
   "outputs": [],
   "source": [
    "from chainer import optimizers, Variable\n",
    "from ipywidgets import FloatProgress\n",
    "from IPython.display import display\n",
    "\n",
    "n_mid =300\n",
    "n_epoch = 300\n",
    "n_batch = 100\n",
    "\n",
    "model = Seq2SeqAttention(x_vocab, n_mid, y_vocab)\n",
    "optimizer = optimizers.Adam()\n",
    "optimizer.setup(model)\n",
    "\n",
    "fp = FloatProgress(min=0, max=n_train*n_epoch)\n",
    "display(fp)\n",
    "\n",
    "error = []\n",
    "for epoch in range(n_epoch):\n",
    "    shuffidx = np.random.permutation(n_train)\n",
    "    for i in range(0, n_train, n_batch):\n",
    "        X_batch = X_train[shuffidx[i : i + n_batch if i + n_batch < n_train else n_train]]\n",
    "        Y_batch = Y_train[shuffidx[i : i + n_batch if i + n_batch < n_train else n_train]]\n",
    "        \n",
    "        model.zerograds()\n",
    "        loss = model(X_batch, Y_batch)\n",
    "        loss.backward()\n",
    "        optimizer.update()\n",
    "        error.append(loss.data / n_batch)\n",
    "        fp.value = n_train*epoch + i + 1\n",
    "    \n",
    "    if (epoch + 1) % 50 == 0:\n",
    "        note = 'n_train: %d, n_mid: %d\\n'%(n_train, n_mid) + \\\n",
    "               '入力 X → Encoder → 変換素子 → dropout → Decoder(Attention) → 出力' + \\\n",
    "               'Attention内部にLSTMのようなInputGate, ForgetGate, OutputGateを用意'\n",
    "        data = {'model' : model,\n",
    "                'epochs': epoch,\n",
    "                'errors': error,\n",
    "                'note'  : note}\n",
    "        with open('model/seq2seq-Full-atteentionII-%depochs.mdl'%epoch, 'wb') as f:\n",
    "            pickle.dump(data, f)"
   ]
  },
  {
   "cell_type": "code",
   "execution_count": 26,
   "metadata": {
    "collapsed": false
   },
   "outputs": [
    {
     "data": {
      "text/plain": [
       "[<matplotlib.lines.Line2D at 0x1d3625fffd0>]"
      ]
     },
     "execution_count": 26,
     "metadata": {},
     "output_type": "execute_result"
    },
    {
     "data": {
      "image/png": "[encoded data removed]",
      "text/plain": [
       "<matplotlib.figure.Figure at 0x1d300a56fd0>"
      ]
     },
     "metadata": {},
     "output_type": "display_data"
    }
   ],
   "source": [
    "%matplotlib inline\n",
    "import matplotlib.pyplot as plt\n",
    "plt.plot(error)"
   ]
  },
  {
   "cell_type": "code",
   "execution_count": 34,
   "metadata": {
    "collapsed": false
   },
   "outputs": [],
   "source": [
    "note = 'n_train: %d, n_mid: %d\\n'%(n_train, n_mid) + \\\n",
    "       '入力 X → Encoder → 変換素子 → dropout → Decoder(Attention) → 出力'\n",
    "data = {'model' : model,\n",
    "        'epochs': n_epoch,\n",
    "        'errors': error,\n",
    "        'note'  : note}\n",
    "with open('model/seq2seq-full-atteention-%depochs.mdl'%n_epoch, 'wb') as f:\n",
    "    pickle.dump(data, f)"
   ]
  },
  {
   "cell_type": "code",
   "execution_count": 15,
   "metadata": {
    "collapsed": false
   },
   "outputs": [
    {
     "name": "stdout",
     "output_type": "stream",
     "text": [
      "『この素晴らしい世界に祝福を！２』:\n",
      "     バ ト ル ア ク シ ョ ン も ！ ？ 怒 涛 の 第 四 巻 ！ <eos> \n",
      "『あいまいみー ～Surgical Friends～』:\n",
      "     中 二 病 を 脱 却 ! ? 「 最 」 の 世 界 で 、 少 年 は 少 年 を 取 り 戻 す の は ― ― ! ? <eos> \n",
      "『小林さんちのメイドラゴン』:\n",
      "     天 才 ニ ー ト × 頭 脳 バ ト ル × 異 世 界 フ ァ ン タ ジ ー 、 第 二 弾 ！ <eos> \n",
      "『Fate／Grand Order ‐First Order‐』:\n",
      "     最 強 妄 想 ヒ ロ イ ン 、 つ い に 発 動 す ! ! <eos> \n",
      "『幼女戦記』:\n",
      "     二 人 の 女 の 子 と 運 命 を 、 お し て か 、 そ れ と も ― ― ？ <eos> \n",
      "『亜人ちゃんは語りたい』:\n",
      "     待 望 の 最 新 作 、 登 場 ！ <eos> \n",
      "『ガウリールドロップアウト』:\n",
      "     り 上 等 と 出 会 う ！ そ し て リ オ ン が 挑 む ！ <eos> \n",
      "『けものフレンズ』:\n",
      "     学 校 復 活 で 贈 る 、 大 人 気 学 園 戦 国 フ ァ ン タ ジ ー 、 第 七 話 開 幕 ！ <eos> \n",
      "『学戦都市アスタリスク』:\n",
      "     が わ け た し は ― ― ホ ー ム で 、 屈 指 し た 西 也 の 次 の ス テ ィ ー ジ だ ！ <eos> \n"
     ]
    }
   ],
   "source": [
    "import pickle\n",
    "with open('model/model-i/seq2seq-Full-atteentionII-250epochs.mdl', 'rb') as f:\n",
    "    modeldata = pickle.load(f)\n",
    "\n",
    "md = modeldata['model']\n",
    "\n",
    "title =['この素晴らしい世界に祝福を！２',\n",
    "        'あいまいみー ～Surgical Friends～',\n",
    "        '小林さんちのメイドラゴン',\n",
    "        'Fate／Grand Order ‐First Order‐',\n",
    "        '幼女戦記',\n",
    "        '亜人ちゃんは語りたい',\n",
    "        'ガウリールドロップアウト',\n",
    "        'けものフレンズ',\n",
    "        '学戦都市アスタリスク'\n",
    "       ]\n",
    "D = t_wd2id(title)\n",
    "for i in range(len(D)):\n",
    "    D[i].append(-1)\n",
    "D = np.array([np.array(d, dtype=np.int32) for d in D])\n",
    "\n",
    "P = c_wd2id.translate(md.predict(D, max_iter=50))\n",
    "for i, p in enumerate(P):\n",
    "    print('『'+title[i]+'』:\\n    ', p)"
   ]
  },
  {
   "cell_type": "code",
   "execution_count": null,
   "metadata": {
    "collapsed": true
   },
   "outputs": [],
   "source": []
  }
 ],
 "metadata": {
  "anaconda-cloud": {},
  "kernelspec": {
   "display_name": "Python 3",
   "language": "python",
   "name": "python3"
  },
  "language_info": {
   "codemirror_mode": {
    "name": "ipython",
    "version": 3
   },
   "file_extension": ".py",
   "mimetype": "text/x-python",
   "name": "python",
   "nbconvert_exporter": "python",
   "pygments_lexer": "ipython3",
   "version": "3.6.0"
  },
  "latex_envs": {
   "LaTeX_envs_menu_present": true,
   "bibliofile": "biblio.bib",
   "cite_by": "apalike",
   "current_citInitial": 1,
   "eqLabelWithNumbers": true,
   "eqNumInitial": 1,
   "hotkeys": {
    "equation": "Ctrl-E",
    "itemize": "Ctrl-I"
   },
   "labels_anchors": false,
   "latex_user_defs": false,
   "report_style_numbering": false,
   "user_envs_cfg": false
  },
  "toc": {
   "colors": {
    "hover_highlight": "#DAA520",
    "running_highlight": "#FF0000",
    "selected_highlight": "#FFD700"
   },
   "moveMenuLeft": true,
   "nav_menu": {
    "height": "207px",
    "width": "252px"
   },
   "navigate_menu": true,
   "number_sections": true,
   "sideBar": true,
   "threshold": 4,
   "toc_cell": false,
   "toc_section_display": "block",
   "toc_window_display": false
  }
 },
 "nbformat": 4,
 "nbformat_minor": 1
}
